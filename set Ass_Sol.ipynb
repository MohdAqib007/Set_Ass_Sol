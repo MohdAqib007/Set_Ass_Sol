{
 "cells": [
  {
   "cell_type": "code",
   "execution_count": null,
   "id": "b1d87e7b-d306-4f80-8645-2230a4748d67",
   "metadata": {},
   "outputs": [],
   "source": [
    "#Q1. What is a set in Python?\n",
    "#Ans-\n",
    "'''In Python, a set is an unordered collection of unique elements. It is a built-in data type that is used to store a collection of distinct objects. \n",
    "The elements in a set are enclosed in curly braces {} and separated by commas.\n",
    "\n",
    "Here are a few important characteristics of sets in Python:\n",
    "\n",
    "1. Uniqueness: Sets only contain unique elements. Duplicate values are automatically eliminated. Each element in a set must be unique.\n",
    "\n",
    "2. Unordered: Sets are unordered, which means the elements are not stored in any particular order. Therefore, you cannot access set elements using indexing or slicing.\n",
    "\n",
    "3. Mutable: Sets are mutable, meaning you can add or remove elements from a set after it is created.\n",
    "\n",
    "4. Hashable Elements: Set elements must be hashable. Immutable data types like numbers, strings, and tuples can be elements of a set, but mutable data types like lists and dictionaries cannot.\n",
    "\n",
    "Mathematical Set Operations: Sets in Python support various mathematical set operations like union, intersection, difference, and symmetric difference. \n",
    "These operations can be performed using built-in methods or operators.'''"
   ]
  },
  {
   "cell_type": "code",
   "execution_count": 31,
   "id": "7ff0e075-7a41-4db3-a6d2-e584344f4a1f",
   "metadata": {},
   "outputs": [
    {
     "data": {
      "text/plain": [
       "{1, 2, 3, 4, 5}"
      ]
     },
     "execution_count": 31,
     "metadata": {},
     "output_type": "execute_result"
    }
   ],
   "source": [
    "#Q2.How do you create a set in Python?\n",
    "#Ans-\n",
    "'''Here is an example of set'''\n",
    "\n",
    "my_set = {1, 2, 3, 4, 5}\n",
    "\n",
    "my_set"
   ]
  },
  {
   "cell_type": "code",
   "execution_count": 32,
   "id": "5f58f60c-fe6d-4b87-abe0-f74552e088dc",
   "metadata": {},
   "outputs": [
    {
     "data": {
      "text/plain": [
       "{1, 2, 3, 4, 5, 6}"
      ]
     },
     "execution_count": 32,
     "metadata": {},
     "output_type": "execute_result"
    }
   ],
   "source": [
    "#Q3. How do you add elements to a set in Python?\n",
    "#Ans-\n",
    "'''To add elements in set we can use following add() function'''\n",
    "\n",
    "my_set.add(6)\n",
    "my_set"
   ]
  },
  {
   "cell_type": "code",
   "execution_count": 33,
   "id": "cf09c924-9522-4668-8b09-a15366e40581",
   "metadata": {},
   "outputs": [
    {
     "data": {
      "text/plain": [
       "{1, 3, 4, 5, 6}"
      ]
     },
     "execution_count": 33,
     "metadata": {},
     "output_type": "execute_result"
    }
   ],
   "source": [
    "#Q4. How do you remove elements from a set in Python?\n",
    "#Ans-\n",
    "'''We can remove elements from a set by using pop(), remove(), discard() ans clear() function.\n",
    "Here is an example'''\n",
    "\n",
    "my_set.remove(2)\n",
    "my_set"
   ]
  },
  {
   "cell_type": "code",
   "execution_count": 35,
   "id": "0b9b4561-ddef-43ff-b172-2f0ac5d26792",
   "metadata": {},
   "outputs": [
    {
     "data": {
      "text/plain": [
       "5"
      ]
     },
     "execution_count": 35,
     "metadata": {},
     "output_type": "execute_result"
    }
   ],
   "source": [
    "#Q5. How do you get the length of a set in Python?\n",
    "#Ans-\n",
    "'''In Python, you can get the length of a set using the built-in len() function. \n",
    "The len() function returns the number of elements in the set.\n",
    "For Exmaple-'''\n",
    "\n",
    "len(my_set)\n"
   ]
  },
  {
   "cell_type": "code",
   "execution_count": null,
   "id": "935fa603-91ad-4ec5-b6e5-edaa360e6f8b",
   "metadata": {},
   "outputs": [],
   "source": []
  }
 ],
 "metadata": {
  "kernelspec": {
   "display_name": "Python 3 (ipykernel)",
   "language": "python",
   "name": "python3"
  },
  "language_info": {
   "codemirror_mode": {
    "name": "ipython",
    "version": 3
   },
   "file_extension": ".py",
   "mimetype": "text/x-python",
   "name": "python",
   "nbconvert_exporter": "python",
   "pygments_lexer": "ipython3",
   "version": "3.10.8"
  }
 },
 "nbformat": 4,
 "nbformat_minor": 5
}
